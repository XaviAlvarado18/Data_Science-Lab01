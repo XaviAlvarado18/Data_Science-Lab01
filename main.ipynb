{
 "cells": [
  {
   "cell_type": "markdown",
   "metadata": {},
   "source": [
    "# Laboratorio 01\n",
    "\n",
    "- Mario Guerra\n",
    "- Javier Alvarado"
   ]
  },
  {
   "cell_type": "markdown",
   "metadata": {},
   "source": [
    "El conjunto de datos fue recolectado en el “Hospital Universitario de Caracas” en Venezuela. Comprende\n",
    "información demográfica, hábitos y registros históricos de 858 pacientes. A continuación, la importación del dataset a nuestro ambiente de Python."
   ]
  },
  {
   "cell_type": "code",
   "execution_count": 1,
   "metadata": {},
   "outputs": [
    {
     "name": "stdout",
     "output_type": "stream",
     "text": [
      "{'uci_id': 383, 'name': 'Cervical Cancer (Risk Factors)', 'repository_url': 'https://archive.ics.uci.edu/dataset/383/cervical+cancer+risk+factors', 'data_url': 'https://archive.ics.uci.edu/static/public/383/data.csv', 'abstract': 'This dataset focuses on the prediction of indicators/diagnosis of cervical cancer. The features cover demographic information, habits, and historic medical records.', 'area': 'Health and Medicine', 'tasks': ['Classification'], 'characteristics': ['Multivariate'], 'num_instances': 858, 'num_features': 36, 'feature_types': ['Integer', 'Real'], 'demographics': ['Age', 'Other'], 'target_col': None, 'index_col': None, 'has_missing_values': 'yes', 'missing_values_symbol': 'NaN', 'year_of_dataset_creation': 2017, 'last_updated': 'Sun Mar 10 2024', 'dataset_doi': '10.24432/C5Z310', 'creators': ['Kelwin Fernandes', 'Jaime Cardoso', 'Jessica Fernandes'], 'intro_paper': {'title': 'Transfer Learning with Partial Observability Applied to Cervical Cancer Screening', 'authors': 'Kelwin Fernandes, Jaime S. Cardoso, Jessica C. Fernandes', 'published_in': 'Iberian Conference on Pattern Recognition and Image Analysis', 'year': 2017, 'url': 'https://www.semanticscholar.org/paper/Transfer-Learning-with-Partial-Observability-to-Fernandes-Cardoso/1c02438ba4dfa775399ba414508e9cd335b69012', 'doi': None}, 'additional_info': {'summary': \"The dataset was collected at 'Hospital Universitario de Caracas' in Caracas, Venezuela. The dataset comprises demographic information, habits, and historic medical records of 858 patients. Several patients decided not to answer some of the questions because of privacy concerns (missing values).\", 'purpose': None, 'funded_by': None, 'instances_represent': None, 'recommended_data_splits': None, 'sensitive_data': None, 'preprocessing_description': None, 'variable_info': '(int) Age\\r\\n(int) Number of sexual partners\\r\\n(int) First sexual intercourse (age)\\r\\n(int) Num of pregnancies\\r\\n(bool) Smokes\\r\\n(bool) Smokes (years)\\r\\n(bool) Smokes (packs/year)\\r\\n(bool) Hormonal Contraceptives\\r\\n(int) Hormonal Contraceptives (years)\\r\\n(bool) IUD\\r\\n(int) IUD (years)\\r\\n(bool) STDs\\r\\n(int) STDs (number)\\r\\n(bool) STDs:condylomatosis\\r\\n(bool) STDs:cervical condylomatosis\\r\\n(bool) STDs:vaginal condylomatosis\\r\\n(bool) STDs:vulvo-perineal condylomatosis\\r\\n(bool) STDs:syphilis\\r\\n(bool) STDs:pelvic inflammatory disease\\r\\n(bool) STDs:genital herpes\\r\\n(bool) STDs:molluscum contagiosum\\r\\n(bool) STDs:AIDS\\r\\n(bool) STDs:HIV\\r\\n(bool) STDs:Hepatitis B\\r\\n(bool) STDs:HPV\\r\\n(int) STDs: Number of diagnosis\\r\\n(int) STDs: Time since first diagnosis\\r\\n(int) STDs: Time since last diagnosis\\r\\n(bool) Dx:Cancer\\r\\n(bool) Dx:CIN\\r\\n(bool) Dx:HPV\\r\\n(bool) Dx\\r\\n(bool) Hinselmann: target variable\\r\\n(bool) Schiller: target variable\\r\\n(bool) Cytology: target variable\\r\\n(bool) Biopsy: target variable', 'citation': None}}\n",
      "                                  name     role        type demographic  \\\n",
      "0                                  Age  Feature     Integer         Age   \n",
      "1            Number of sexual partners  Feature  Continuous       Other   \n",
      "2             First sexual intercourse  Feature  Continuous        None   \n",
      "3                   Num of pregnancies  Feature  Continuous        None   \n",
      "4                               Smokes  Feature  Continuous        None   \n",
      "5                       Smokes (years)  Feature  Continuous        None   \n",
      "6                  Smokes (packs/year)  Feature  Continuous        None   \n",
      "7              Hormonal Contraceptives  Feature  Continuous        None   \n",
      "8      Hormonal Contraceptives (years)  Feature  Continuous        None   \n",
      "9                                  IUD  Feature  Continuous        None   \n",
      "10                         IUD (years)  Feature  Continuous        None   \n",
      "11                                STDs  Feature  Continuous        None   \n",
      "12                       STDs (number)  Feature  Continuous        None   \n",
      "13                 STDs:condylomatosis  Feature  Continuous        None   \n",
      "14        STDs:cervical condylomatosis  Feature  Continuous        None   \n",
      "15         STDs:vaginal condylomatosis  Feature  Continuous        None   \n",
      "16  STDs:vulvo-perineal condylomatosis  Feature  Continuous        None   \n",
      "17                       STDs:syphilis  Feature  Continuous        None   \n",
      "18    STDs:pelvic inflammatory disease  Feature  Continuous        None   \n",
      "19                 STDs:genital herpes  Feature  Continuous        None   \n",
      "20          STDs:molluscum contagiosum  Feature  Continuous        None   \n",
      "21                           STDs:AIDS  Feature  Continuous        None   \n",
      "22                            STDs:HIV  Feature  Continuous        None   \n",
      "23                    STDs:Hepatitis B  Feature  Continuous        None   \n",
      "24                            STDs:HPV  Feature  Continuous        None   \n",
      "25           STDs: Number of diagnosis  Feature     Integer        None   \n",
      "26    STDs: Time since first diagnosis  Feature  Continuous        None   \n",
      "27     STDs: Time since last diagnosis  Feature  Continuous        None   \n",
      "28                           Dx:Cancer  Feature     Integer        None   \n",
      "29                              Dx:CIN  Feature     Integer        None   \n",
      "30                              Dx:HPV  Feature     Integer        None   \n",
      "31                                  Dx  Feature     Integer        None   \n",
      "32                          Hinselmann  Feature     Integer        None   \n",
      "33                            Schiller  Feature     Integer        None   \n",
      "34                            Citology  Feature     Integer        None   \n",
      "35                              Biopsy  Feature     Integer        None   \n",
      "\n",
      "   description units missing_values  \n",
      "0         None  None             no  \n",
      "1         None  None            yes  \n",
      "2         None  None            yes  \n",
      "3         None  None            yes  \n",
      "4         None  None            yes  \n",
      "5         None  None            yes  \n",
      "6         None  None            yes  \n",
      "7         None  None            yes  \n",
      "8         None  None            yes  \n",
      "9         None  None            yes  \n",
      "10        None  None            yes  \n",
      "11        None  None            yes  \n",
      "12        None  None            yes  \n",
      "13        None  None            yes  \n",
      "14        None  None            yes  \n",
      "15        None  None            yes  \n",
      "16        None  None            yes  \n",
      "17        None  None            yes  \n",
      "18        None  None            yes  \n",
      "19        None  None            yes  \n",
      "20        None  None            yes  \n",
      "21        None  None            yes  \n",
      "22        None  None            yes  \n",
      "23        None  None            yes  \n",
      "24        None  None            yes  \n",
      "25        None  None             no  \n",
      "26        None  None            yes  \n",
      "27        None  None            yes  \n",
      "28        None  None             no  \n",
      "29        None  None             no  \n",
      "30        None  None             no  \n",
      "31        None  None             no  \n",
      "32        None  None             no  \n",
      "33        None  None             no  \n",
      "34        None  None             no  \n",
      "35        None  None             no  \n"
     ]
    }
   ],
   "source": [
    "from ucimlrepo import fetch_ucirepo \n",
    "  \n",
    "# fetch dataset \n",
    "cervical_cancer_risk_factors = fetch_ucirepo(id=383) \n",
    "  \n",
    "# data (as pandas dataframes) \n",
    "X = cervical_cancer_risk_factors.data.features \n",
    "y = cervical_cancer_risk_factors.data.targets \n",
    "  \n",
    "# metadata \n",
    "print(cervical_cancer_risk_factors.metadata) \n",
    "  \n",
    "# variable information \n",
    "print(cervical_cancer_risk_factors.variables) "
   ]
  },
  {
   "cell_type": "markdown",
   "metadata": {},
   "source": [
    "A continuación, un script para obtener un archivo de excel en donde se nos indica el tipo de dato (cualitativa o categorica, cuantitativa continua, cuantitativa discreta)"
   ]
  },
  {
   "cell_type": "code",
   "execution_count": 3,
   "metadata": {},
   "outputs": [
    {
     "ename": "ModuleNotFoundError",
     "evalue": "No module named 'openpyxl'",
     "output_type": "error",
     "traceback": [
      "\u001b[1;31m---------------------------------------------------------------------------\u001b[0m",
      "\u001b[1;31mModuleNotFoundError\u001b[0m                       Traceback (most recent call last)",
      "Cell \u001b[1;32mIn[3], line 38\u001b[0m\n\u001b[0;32m     35\u001b[0m variable_types_df \u001b[38;5;241m=\u001b[39m pd\u001b[38;5;241m.\u001b[39mDataFrame(\u001b[38;5;28mlist\u001b[39m(variable_types\u001b[38;5;241m.\u001b[39mitems()), columns\u001b[38;5;241m=\u001b[39m[\u001b[38;5;124m'\u001b[39m\u001b[38;5;124mVariable\u001b[39m\u001b[38;5;124m'\u001b[39m, \u001b[38;5;124m'\u001b[39m\u001b[38;5;124mTipo\u001b[39m\u001b[38;5;124m'\u001b[39m])\n\u001b[0;32m     37\u001b[0m \u001b[38;5;66;03m# Save the dataset and the variable types to an Excel file\u001b[39;00m\n\u001b[1;32m---> 38\u001b[0m \u001b[38;5;28;01mwith\u001b[39;00m \u001b[43mpd\u001b[49m\u001b[38;5;241;43m.\u001b[39;49m\u001b[43mExcelWriter\u001b[49m\u001b[43m(\u001b[49m\u001b[38;5;124;43m'\u001b[39;49m\u001b[38;5;124;43mcervical_cancer_data.xlsx\u001b[39;49m\u001b[38;5;124;43m'\u001b[39;49m\u001b[43m)\u001b[49m \u001b[38;5;28;01mas\u001b[39;00m writer:\n\u001b[0;32m     39\u001b[0m     df\u001b[38;5;241m.\u001b[39mto_excel(writer, sheet_name\u001b[38;5;241m=\u001b[39m\u001b[38;5;124m'\u001b[39m\u001b[38;5;124mDatos\u001b[39m\u001b[38;5;124m'\u001b[39m, index\u001b[38;5;241m=\u001b[39m\u001b[38;5;28;01mFalse\u001b[39;00m)\n\u001b[0;32m     40\u001b[0m     variable_types_df\u001b[38;5;241m.\u001b[39mto_excel(writer, sheet_name\u001b[38;5;241m=\u001b[39m\u001b[38;5;124m'\u001b[39m\u001b[38;5;124mTipos de Variables\u001b[39m\u001b[38;5;124m'\u001b[39m, index\u001b[38;5;241m=\u001b[39m\u001b[38;5;28;01mFalse\u001b[39;00m)\n",
      "File \u001b[1;32mc:\\Users\\Kristopher\\Documents\\S8\\Data Science\\Lab01\\.venv\\Lib\\site-packages\\pandas\\io\\excel\\_openpyxl.py:57\u001b[0m, in \u001b[0;36mOpenpyxlWriter.__init__\u001b[1;34m(self, path, engine, date_format, datetime_format, mode, storage_options, if_sheet_exists, engine_kwargs, **kwargs)\u001b[0m\n\u001b[0;32m     44\u001b[0m \u001b[38;5;28;01mdef\u001b[39;00m \u001b[38;5;21m__init__\u001b[39m(\n\u001b[0;32m     45\u001b[0m     \u001b[38;5;28mself\u001b[39m,\n\u001b[0;32m     46\u001b[0m     path: FilePath \u001b[38;5;241m|\u001b[39m WriteExcelBuffer \u001b[38;5;241m|\u001b[39m ExcelWriter,\n\u001b[1;32m   (...)\u001b[0m\n\u001b[0;32m     55\u001b[0m ) \u001b[38;5;241m-\u001b[39m\u001b[38;5;241m>\u001b[39m \u001b[38;5;28;01mNone\u001b[39;00m:\n\u001b[0;32m     56\u001b[0m     \u001b[38;5;66;03m# Use the openpyxl module as the Excel writer.\u001b[39;00m\n\u001b[1;32m---> 57\u001b[0m     \u001b[38;5;28;01mfrom\u001b[39;00m \u001b[38;5;21;01mopenpyxl\u001b[39;00m\u001b[38;5;21;01m.\u001b[39;00m\u001b[38;5;21;01mworkbook\u001b[39;00m \u001b[38;5;28;01mimport\u001b[39;00m Workbook\n\u001b[0;32m     59\u001b[0m     engine_kwargs \u001b[38;5;241m=\u001b[39m combine_kwargs(engine_kwargs, kwargs)\n\u001b[0;32m     61\u001b[0m     \u001b[38;5;28msuper\u001b[39m()\u001b[38;5;241m.\u001b[39m\u001b[38;5;21m__init__\u001b[39m(\n\u001b[0;32m     62\u001b[0m         path,\n\u001b[0;32m     63\u001b[0m         mode\u001b[38;5;241m=\u001b[39mmode,\n\u001b[1;32m   (...)\u001b[0m\n\u001b[0;32m     66\u001b[0m         engine_kwargs\u001b[38;5;241m=\u001b[39mengine_kwargs,\n\u001b[0;32m     67\u001b[0m     )\n",
      "\u001b[1;31mModuleNotFoundError\u001b[0m: No module named 'openpyxl'"
     ]
    }
   ],
   "source": []
  }
 ],
 "metadata": {
  "kernelspec": {
   "display_name": ".venv",
   "language": "python",
   "name": "python3"
  },
  "language_info": {
   "codemirror_mode": {
    "name": "ipython",
    "version": 3
   },
   "file_extension": ".py",
   "mimetype": "text/x-python",
   "name": "python",
   "nbconvert_exporter": "python",
   "pygments_lexer": "ipython3",
   "version": "3.11.9"
  }
 },
 "nbformat": 4,
 "nbformat_minor": 2
}
