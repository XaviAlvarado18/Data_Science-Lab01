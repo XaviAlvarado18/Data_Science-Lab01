{
 "cells": [
  {
   "cell_type": "markdown",
   "metadata": {},
   "source": [
    "# Laboratorio 01\n",
    "\n",
    "- Mario Guerra\n",
    "- Javier Alvarado"
   ]
  },
  {
   "cell_type": "markdown",
   "metadata": {},
   "source": [
    "El conjunto de datos fue recolectado en el “Hospital Universitario de Caracas” en Venezuela. Comprende\n",
    "información demográfica, hábitos y registros históricos de 858 pacientes. A continuación, la importación del dataset a nuestro ambiente de Python."
   ]
  },
  {
   "cell_type": "code",
   "execution_count": 6,
   "metadata": {},
   "outputs": [
    {
     "name": "stdout",
     "output_type": "stream",
     "text": [
      "                                  name     role        type demographic  \\\n",
      "0                                  Age  Feature     Integer         Age   \n",
      "1            Number of sexual partners  Feature  Continuous       Other   \n",
      "2             First sexual intercourse  Feature  Continuous        None   \n",
      "3                   Num of pregnancies  Feature  Continuous        None   \n",
      "4                               Smokes  Feature  Continuous        None   \n",
      "5                       Smokes (years)  Feature  Continuous        None   \n",
      "6                  Smokes (packs/year)  Feature  Continuous        None   \n",
      "7              Hormonal Contraceptives  Feature  Continuous        None   \n",
      "8      Hormonal Contraceptives (years)  Feature  Continuous        None   \n",
      "9                                  IUD  Feature  Continuous        None   \n",
      "10                         IUD (years)  Feature  Continuous        None   \n",
      "11                                STDs  Feature  Continuous        None   \n",
      "12                       STDs (number)  Feature  Continuous        None   \n",
      "13                 STDs:condylomatosis  Feature  Continuous        None   \n",
      "14        STDs:cervical condylomatosis  Feature  Continuous        None   \n",
      "15         STDs:vaginal condylomatosis  Feature  Continuous        None   \n",
      "16  STDs:vulvo-perineal condylomatosis  Feature  Continuous        None   \n",
      "17                       STDs:syphilis  Feature  Continuous        None   \n",
      "18    STDs:pelvic inflammatory disease  Feature  Continuous        None   \n",
      "19                 STDs:genital herpes  Feature  Continuous        None   \n",
      "20          STDs:molluscum contagiosum  Feature  Continuous        None   \n",
      "21                           STDs:AIDS  Feature  Continuous        None   \n",
      "22                            STDs:HIV  Feature  Continuous        None   \n",
      "23                    STDs:Hepatitis B  Feature  Continuous        None   \n",
      "24                            STDs:HPV  Feature  Continuous        None   \n",
      "25           STDs: Number of diagnosis  Feature     Integer        None   \n",
      "26    STDs: Time since first diagnosis  Feature  Continuous        None   \n",
      "27     STDs: Time since last diagnosis  Feature  Continuous        None   \n",
      "28                           Dx:Cancer  Feature     Integer        None   \n",
      "29                              Dx:CIN  Feature     Integer        None   \n",
      "30                              Dx:HPV  Feature     Integer        None   \n",
      "31                                  Dx  Feature     Integer        None   \n",
      "32                          Hinselmann  Feature     Integer        None   \n",
      "33                            Schiller  Feature     Integer        None   \n",
      "34                            Citology  Feature     Integer        None   \n",
      "35                              Biopsy  Feature     Integer        None   \n",
      "\n",
      "   description units missing_values  \n",
      "0         None  None             no  \n",
      "1         None  None            yes  \n",
      "2         None  None            yes  \n",
      "3         None  None            yes  \n",
      "4         None  None            yes  \n",
      "5         None  None            yes  \n",
      "6         None  None            yes  \n",
      "7         None  None            yes  \n",
      "8         None  None            yes  \n",
      "9         None  None            yes  \n",
      "10        None  None            yes  \n",
      "11        None  None            yes  \n",
      "12        None  None            yes  \n",
      "13        None  None            yes  \n",
      "14        None  None            yes  \n",
      "15        None  None            yes  \n",
      "16        None  None            yes  \n",
      "17        None  None            yes  \n",
      "18        None  None            yes  \n",
      "19        None  None            yes  \n",
      "20        None  None            yes  \n",
      "21        None  None            yes  \n",
      "22        None  None            yes  \n",
      "23        None  None            yes  \n",
      "24        None  None            yes  \n",
      "25        None  None             no  \n",
      "26        None  None            yes  \n",
      "27        None  None            yes  \n",
      "28        None  None             no  \n",
      "29        None  None             no  \n",
      "30        None  None             no  \n",
      "31        None  None             no  \n",
      "32        None  None             no  \n",
      "33        None  None             no  \n",
      "34        None  None             no  \n",
      "35        None  None             no  \n"
     ]
    }
   ],
   "source": [
    "from ucimlrepo import fetch_ucirepo \n",
    "  \n",
    "# fetch dataset \n",
    "cervical_cancer_risk_factors = fetch_ucirepo(id=383) \n",
    "  \n",
    "# data (as pandas dataframes) \n",
    "X = cervical_cancer_risk_factors.data.features \n",
    "y = cervical_cancer_risk_factors.data.targets \n",
    "  \n",
    "# metadata \n",
    "#print(cervical_cancer_risk_factors.metadata) \n",
    "  \n",
    "# variable information \n",
    "print(cervical_cancer_risk_factors.variables) "
   ]
  },
  {
   "cell_type": "markdown",
   "metadata": {},
   "source": [
    "# Analisis exploratorio"
   ]
  },
  {
   "cell_type": "code",
   "execution_count": null,
   "metadata": {},
   "outputs": [],
   "source": []
  },
  {
   "cell_type": "markdown",
   "metadata": {},
   "source": [
    "## Script para generar el tipo de dato del dataset\n",
    "A continuación, un script para obtener un archivo de excel en donde se nos indica el tipo de dato de cada una de las variables del dataset (cualitativa o categorica, cuantitativa continua, cuantitativa discreta)"
   ]
  },
  {
   "cell_type": "code",
   "execution_count": 7,
   "metadata": {},
   "outputs": [
    {
     "name": "stdout",
     "output_type": "stream",
     "text": [
      "El archivo de Excel ha sido generado y guardado como 'cervical_cancer_data.xlsx'.\n"
     ]
    }
   ],
   "source": [
    "import pandas as pd\n",
    "from ucimlrepo import fetch_ucirepo\n",
    "\n",
    "# Fetch dataset\n",
    "cervical_cancer_risk_factors = fetch_ucirepo(id=383)\n",
    "\n",
    "# Data (as pandas dataframes)\n",
    "X = cervical_cancer_risk_factors.data.features\n",
    "y = cervical_cancer_risk_factors.data.targets\n",
    "\n",
    "# Combine features and targets into a single DataFrame for convenience\n",
    "df = pd.concat([X, y], axis=1)\n",
    "\n",
    "# Function to determine the type of each variable\n",
    "def determine_variable_type(df):\n",
    "    variable_types = {}\n",
    "    for column in df.columns:\n",
    "        unique_values = df[column].unique()\n",
    "        num_unique_values = len(unique_values)\n",
    "        \n",
    "        if set(unique_values).issubset({0, 1}) and pd.api.types.is_numeric_dtype(df[column]):\n",
    "            variable_types[column] = 'Cualitativa (boolean)'\n",
    "        elif pd.api.types.is_numeric_dtype(df[column]):\n",
    "            if num_unique_values <= 10:\n",
    "                variable_types[column] = 'Cuantitativa discreta'\n",
    "            else:\n",
    "                variable_types[column] = 'Cuantitativa continua'\n",
    "        else:\n",
    "            variable_types[column] = 'Cualitativa o categórica'\n",
    "    \n",
    "    return variable_types\n",
    "\n",
    "# Determine variable types\n",
    "variable_types = determine_variable_type(df)\n",
    "\n",
    "# Convert the variable types dictionary to a DataFrame\n",
    "variable_types_df = pd.DataFrame(list(variable_types.items()), columns=['Variable', 'Tipo'])\n",
    "\n",
    "# Save the dataset and the variable types to an Excel file\n",
    "with pd.ExcelWriter('cervical_cancer_data.xlsx') as writer:\n",
    "    df.to_excel(writer, sheet_name='Datos', index=False)\n",
    "    variable_types_df.to_excel(writer, sheet_name='Tipos de Variables', index=False)\n",
    "\n",
    "print(\"El archivo de Excel ha sido generado y guardado como 'cervical_cancer_data.xlsx'.\")\n"
   ]
  }
 ],
 "metadata": {
  "kernelspec": {
   "display_name": ".venv",
   "language": "python",
   "name": "python3"
  },
  "language_info": {
   "codemirror_mode": {
    "name": "ipython",
    "version": 3
   },
   "file_extension": ".py",
   "mimetype": "text/x-python",
   "name": "python",
   "nbconvert_exporter": "python",
   "pygments_lexer": "ipython3",
   "version": "3.11.9"
  }
 },
 "nbformat": 4,
 "nbformat_minor": 2
}
